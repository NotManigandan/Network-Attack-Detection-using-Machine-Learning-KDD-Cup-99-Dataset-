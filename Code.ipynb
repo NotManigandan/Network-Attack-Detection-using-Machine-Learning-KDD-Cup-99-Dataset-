{
 "cells": [
  {
   "cell_type": "markdown",
   "id": "00543f25",
   "metadata": {},
   "source": [
    "<center> <h1>Machine Learning Analysis on KDD99 Dataset</h1></center>"
   ]
  },
  {
   "cell_type": "markdown",
   "id": "ce27db1b",
   "metadata": {},
   "source": [
    "## Importing the libraries"
   ]
  },
  {
   "cell_type": "code",
   "execution_count": 2,
   "id": "7aad93f3",
   "metadata": {},
   "outputs": [],
   "source": [
    "import pandas as pd\n",
    "import numpy as np\n",
    "import matplotlib.pyplot as plt\n",
    "import seaborn as sns\n",
    "from sklearn.model_selection import train_test_split \n",
    "from tensorflow.keras.models import Sequential\n",
    "from tensorflow.keras.layers import Dense, Activation \n",
    "from sklearn.tree import DecisionTreeClassifier\n",
    "from sklearn.ensemble import RandomForestClassifier\n",
    "from sklearn.model_selection import RandomizedSearchCV\n",
    "import sklearn.metrics as metrics\n",
    "from sklearn.metrics import classification_report, confusion_matrix\n",
    "import warnings\n",
    "warnings.filterwarnings(\"ignore\")"
   ]
  },
  {
   "cell_type": "markdown",
   "id": "2f5cf967",
   "metadata": {},
   "source": [
    "## Importing the dataset"
   ]
  },
  {
   "cell_type": "code",
   "execution_count": 3,
   "id": "22f1c593",
   "metadata": {
    "scrolled": true
   },
   "outputs": [
    {
     "data": {
      "text/html": [
       "<div>\n",
       "<style scoped>\n",
       "    .dataframe tbody tr th:only-of-type {\n",
       "        vertical-align: middle;\n",
       "    }\n",
       "\n",
       "    .dataframe tbody tr th {\n",
       "        vertical-align: top;\n",
       "    }\n",
       "\n",
       "    .dataframe thead th {\n",
       "        text-align: right;\n",
       "    }\n",
       "</style>\n",
       "<table border=\"1\" class=\"dataframe\">\n",
       "  <thead>\n",
       "    <tr style=\"text-align: right;\">\n",
       "      <th></th>\n",
       "      <th>duration</th>\n",
       "      <th>protocol_type</th>\n",
       "      <th>service</th>\n",
       "      <th>flag</th>\n",
       "      <th>src_bytes</th>\n",
       "      <th>dst_bytes</th>\n",
       "      <th>land</th>\n",
       "      <th>wrong_fragment</th>\n",
       "      <th>urgent</th>\n",
       "      <th>hot</th>\n",
       "      <th>...</th>\n",
       "      <th>dst_host_srv_count</th>\n",
       "      <th>dst_host_same_srv_rate</th>\n",
       "      <th>dst_host_diff_srv_rate</th>\n",
       "      <th>dst_host_same_src_port_rate</th>\n",
       "      <th>dst_host_srv_diff_host_rate</th>\n",
       "      <th>dst_host_serror_rate</th>\n",
       "      <th>dst_host_srv_serror_rate</th>\n",
       "      <th>dst_host_rerror_rate</th>\n",
       "      <th>dst_host_srv_rerror_rate</th>\n",
       "      <th>label</th>\n",
       "    </tr>\n",
       "  </thead>\n",
       "  <tbody>\n",
       "    <tr>\n",
       "      <th>0</th>\n",
       "      <td>0</td>\n",
       "      <td>tcp</td>\n",
       "      <td>http</td>\n",
       "      <td>SF</td>\n",
       "      <td>181</td>\n",
       "      <td>5450</td>\n",
       "      <td>0</td>\n",
       "      <td>0</td>\n",
       "      <td>0</td>\n",
       "      <td>0</td>\n",
       "      <td>...</td>\n",
       "      <td>9</td>\n",
       "      <td>1.0</td>\n",
       "      <td>0.0</td>\n",
       "      <td>0.11</td>\n",
       "      <td>0.0</td>\n",
       "      <td>0.0</td>\n",
       "      <td>0.0</td>\n",
       "      <td>0.0</td>\n",
       "      <td>0.0</td>\n",
       "      <td>normal</td>\n",
       "    </tr>\n",
       "    <tr>\n",
       "      <th>1</th>\n",
       "      <td>0</td>\n",
       "      <td>tcp</td>\n",
       "      <td>http</td>\n",
       "      <td>SF</td>\n",
       "      <td>239</td>\n",
       "      <td>486</td>\n",
       "      <td>0</td>\n",
       "      <td>0</td>\n",
       "      <td>0</td>\n",
       "      <td>0</td>\n",
       "      <td>...</td>\n",
       "      <td>19</td>\n",
       "      <td>1.0</td>\n",
       "      <td>0.0</td>\n",
       "      <td>0.05</td>\n",
       "      <td>0.0</td>\n",
       "      <td>0.0</td>\n",
       "      <td>0.0</td>\n",
       "      <td>0.0</td>\n",
       "      <td>0.0</td>\n",
       "      <td>normal</td>\n",
       "    </tr>\n",
       "    <tr>\n",
       "      <th>2</th>\n",
       "      <td>0</td>\n",
       "      <td>tcp</td>\n",
       "      <td>http</td>\n",
       "      <td>SF</td>\n",
       "      <td>235</td>\n",
       "      <td>1337</td>\n",
       "      <td>0</td>\n",
       "      <td>0</td>\n",
       "      <td>0</td>\n",
       "      <td>0</td>\n",
       "      <td>...</td>\n",
       "      <td>29</td>\n",
       "      <td>1.0</td>\n",
       "      <td>0.0</td>\n",
       "      <td>0.03</td>\n",
       "      <td>0.0</td>\n",
       "      <td>0.0</td>\n",
       "      <td>0.0</td>\n",
       "      <td>0.0</td>\n",
       "      <td>0.0</td>\n",
       "      <td>normal</td>\n",
       "    </tr>\n",
       "    <tr>\n",
       "      <th>3</th>\n",
       "      <td>0</td>\n",
       "      <td>tcp</td>\n",
       "      <td>http</td>\n",
       "      <td>SF</td>\n",
       "      <td>219</td>\n",
       "      <td>1337</td>\n",
       "      <td>0</td>\n",
       "      <td>0</td>\n",
       "      <td>0</td>\n",
       "      <td>0</td>\n",
       "      <td>...</td>\n",
       "      <td>39</td>\n",
       "      <td>1.0</td>\n",
       "      <td>0.0</td>\n",
       "      <td>0.03</td>\n",
       "      <td>0.0</td>\n",
       "      <td>0.0</td>\n",
       "      <td>0.0</td>\n",
       "      <td>0.0</td>\n",
       "      <td>0.0</td>\n",
       "      <td>normal</td>\n",
       "    </tr>\n",
       "    <tr>\n",
       "      <th>4</th>\n",
       "      <td>0</td>\n",
       "      <td>tcp</td>\n",
       "      <td>http</td>\n",
       "      <td>SF</td>\n",
       "      <td>217</td>\n",
       "      <td>2032</td>\n",
       "      <td>0</td>\n",
       "      <td>0</td>\n",
       "      <td>0</td>\n",
       "      <td>0</td>\n",
       "      <td>...</td>\n",
       "      <td>49</td>\n",
       "      <td>1.0</td>\n",
       "      <td>0.0</td>\n",
       "      <td>0.02</td>\n",
       "      <td>0.0</td>\n",
       "      <td>0.0</td>\n",
       "      <td>0.0</td>\n",
       "      <td>0.0</td>\n",
       "      <td>0.0</td>\n",
       "      <td>normal</td>\n",
       "    </tr>\n",
       "  </tbody>\n",
       "</table>\n",
       "<p>5 rows × 42 columns</p>\n",
       "</div>"
      ],
      "text/plain": [
       "   duration protocol_type service flag  src_bytes  dst_bytes  land  \\\n",
       "0         0           tcp    http   SF        181       5450     0   \n",
       "1         0           tcp    http   SF        239        486     0   \n",
       "2         0           tcp    http   SF        235       1337     0   \n",
       "3         0           tcp    http   SF        219       1337     0   \n",
       "4         0           tcp    http   SF        217       2032     0   \n",
       "\n",
       "   wrong_fragment  urgent  hot  ...  dst_host_srv_count  \\\n",
       "0               0       0    0  ...                   9   \n",
       "1               0       0    0  ...                  19   \n",
       "2               0       0    0  ...                  29   \n",
       "3               0       0    0  ...                  39   \n",
       "4               0       0    0  ...                  49   \n",
       "\n",
       "   dst_host_same_srv_rate  dst_host_diff_srv_rate  \\\n",
       "0                     1.0                     0.0   \n",
       "1                     1.0                     0.0   \n",
       "2                     1.0                     0.0   \n",
       "3                     1.0                     0.0   \n",
       "4                     1.0                     0.0   \n",
       "\n",
       "   dst_host_same_src_port_rate  dst_host_srv_diff_host_rate  \\\n",
       "0                         0.11                          0.0   \n",
       "1                         0.05                          0.0   \n",
       "2                         0.03                          0.0   \n",
       "3                         0.03                          0.0   \n",
       "4                         0.02                          0.0   \n",
       "\n",
       "   dst_host_serror_rate  dst_host_srv_serror_rate  dst_host_rerror_rate  \\\n",
       "0                   0.0                       0.0                   0.0   \n",
       "1                   0.0                       0.0                   0.0   \n",
       "2                   0.0                       0.0                   0.0   \n",
       "3                   0.0                       0.0                   0.0   \n",
       "4                   0.0                       0.0                   0.0   \n",
       "\n",
       "   dst_host_srv_rerror_rate   label  \n",
       "0                       0.0  normal  \n",
       "1                       0.0  normal  \n",
       "2                       0.0  normal  \n",
       "3                       0.0  normal  \n",
       "4                       0.0  normal  \n",
       "\n",
       "[5 rows x 42 columns]"
      ]
     },
     "execution_count": 3,
     "metadata": {},
     "output_type": "execute_result"
    }
   ],
   "source": [
    "df = pd.read_csv(\"C:\\\\Users\\\\manig\\\\Downloads\\\\kddcup99.csv\") #Importing the dataset into a dataframe\n",
    "df.head() #Printing the first five rows of the dataframe"
   ]
  },
  {
   "cell_type": "code",
   "execution_count": 4,
   "id": "f816c61b",
   "metadata": {
    "scrolled": true
   },
   "outputs": [
    {
     "data": {
      "text/plain": [
       "(494020, 42)"
      ]
     },
     "execution_count": 4,
     "metadata": {},
     "output_type": "execute_result"
    }
   ],
   "source": [
    "df.shape #shape prints the number of rows and columns in the dataframe. The dataset has 42 unique features and 494020 samples."
   ]
  },
  {
   "cell_type": "markdown",
   "id": "70a49cd7",
   "metadata": {},
   "source": [
    "## Exploratory data analysis"
   ]
  },
  {
   "cell_type": "code",
   "execution_count": 5,
   "id": "548702db",
   "metadata": {},
   "outputs": [],
   "source": [
    "def expand_categories (values):\n",
    "    result = []\n",
    "    s = values.value_counts() \n",
    "    t = float(len(values))\n",
    "    for v in s.index:\n",
    "        result.append(\"{}:{}%\".format(v, round(100*(s[v]/t),2))) \n",
    "    return \"[{}]\".format(\",\".join(result))\n",
    "\n",
    "def analyze (df):\n",
    "    cols = df.columns.values \n",
    "    total = float(len(df))\n",
    "    for col in cols:\n",
    "        uniques=df[col].unique() \n",
    "        unique_count = len(uniques)\n",
    "        if unique_count>100:\n",
    "            print(\"===> {}:{} ({}%)\".format(col,unique_count,int(((unique_count)/total)*100)))\n",
    "        else:\n",
    "            print(\"===> {}:{}\".format(col, expand_categories (df[col]))) \n",
    "            expand_categories (df[col])"
   ]
  },
  {
   "cell_type": "code",
   "execution_count": 6,
   "id": "2e0e5eca",
   "metadata": {
    "scrolled": false
   },
   "outputs": [
    {
     "name": "stdout",
     "output_type": "stream",
     "text": [
      "===> duration:2495 (0%)\n",
      "===> protocol_type:[icmp:57.41%,tcp:38.47%,udp:4.12%]\n",
      "===> service:[ecr_i:56.96%,private:22.45%,http:13.01%,smtp:1.97%,other:1.46%,domain_u:1.19%,ftp_data:0.96%,eco_i:0.33%,ftp:0.16%,finger:0.14%,urp_i:0.11%,telnet:0.1%,ntp_u:0.08%,auth:0.07%,pop_3:0.04%,time:0.03%,csnet_ns:0.03%,remote_job:0.02%,gopher:0.02%,imap4:0.02%,discard:0.02%,domain:0.02%,iso_tsap:0.02%,systat:0.02%,shell:0.02%,echo:0.02%,rje:0.02%,whois:0.02%,sql_net:0.02%,printer:0.02%,nntp:0.02%,courier:0.02%,sunrpc:0.02%,netbios_ssn:0.02%,mtp:0.02%,vmnet:0.02%,uucp_path:0.02%,uucp:0.02%,klogin:0.02%,bgp:0.02%,ssh:0.02%,supdup:0.02%,nnsp:0.02%,login:0.02%,hostnames:0.02%,efs:0.02%,daytime:0.02%,link:0.02%,netbios_ns:0.02%,pop_2:0.02%,ldap:0.02%,netbios_dgm:0.02%,exec:0.02%,http_443:0.02%,kshell:0.02%,name:0.02%,ctf:0.02%,netstat:0.02%,Z39_50:0.02%,IRC:0.01%,urh_i:0.0%,X11:0.0%,tim_i:0.0%,pm_dump:0.0%,tftp_u:0.0%,red_i:0.0%]\n",
      "===> flag:[SF:76.6%,S0:17.61%,REJ:5.44%,RSTR:0.18%,RSTO:0.12%,SH:0.02%,S1:0.01%,S2:0.0%,RSTOS0:0.0%,S3:0.0%,OTH:0.0%]\n",
      "===> src_bytes:3300 (0%)\n",
      "===> dst_bytes:10725 (2%)\n",
      "===> land:[0:100.0%,1:0.0%]\n",
      "===> wrong_fragment:[0:99.75%,3:0.2%,1:0.05%]\n",
      "===> urgent:[0:100.0%,1:0.0%,2:0.0%,3:0.0%]\n",
      "===> hot:[0:99.35%,2:0.44%,28:0.06%,1:0.05%,4:0.02%,6:0.02%,5:0.01%,3:0.01%,14:0.01%,30:0.01%,22:0.01%,19:0.0%,24:0.0%,18:0.0%,20:0.0%,7:0.0%,17:0.0%,12:0.0%,16:0.0%,10:0.0%,15:0.0%,9:0.0%]\n",
      "===> num_failed_logins:[0:99.99%,1:0.01%,2:0.0%,5:0.0%,4:0.0%,3:0.0%]\n",
      "===> logged_in:[0:85.18%,1:14.82%]\n",
      "===> num_compromised:[0:99.55%,1:0.44%,2:0.0%,4:0.0%,3:0.0%,6:0.0%,5:0.0%,7:0.0%,767:0.0%,12:0.0%,9:0.0%,884:0.0%,13:0.0%,38:0.0%,18:0.0%,11:0.0%,275:0.0%,281:0.0%,16:0.0%,238:0.0%,21:0.0%,22:0.0%,102:0.0%]\n",
      "===> root_shell:[0:99.99%,1:0.01%]\n",
      "===> su_attempted:[0:100.0%,1:0.0%,2:0.0%]\n",
      "===> num_root:[0:99.88%,1:0.05%,9:0.03%,6:0.03%,2:0.0%,5:0.0%,4:0.0%,3:0.0%,7:0.0%,993:0.0%,54:0.0%,306:0.0%,14:0.0%,39:0.0%,278:0.0%,268:0.0%,12:0.0%,857:0.0%,16:0.0%,119:0.0%]\n",
      "===> num_file_creations:[0:99.95%,1:0.04%,2:0.01%,4:0.0%,16:0.0%,5:0.0%,22:0.0%,25:0.0%,12:0.0%,8:0.0%,7:0.0%,21:0.0%,14:0.0%,10:0.0%,28:0.0%,9:0.0%,15:0.0%,20:0.0%]\n",
      "===> num_shells:[0:99.99%,1:0.01%,2:0.0%]\n",
      "===> num_access_files:[0:99.91%,1:0.09%,2:0.01%,3:0.0%,4:0.0%,6:0.0%,8:0.0%]\n",
      "===> num_outbound_cmds:[0:100.0%]\n",
      "===> is_host_login:[0:100.0%]\n",
      "===> is_guest_login:[0:99.86%,1:0.14%]\n",
      "===> count:490 (0%)\n",
      "===> srv_count:470 (0%)\n",
      "===> serror_rate:[0.0:81.94%,1.0:17.52%,0.99:0.06%,0.08:0.03%,0.05:0.03%,0.06:0.03%,0.07:0.03%,0.14:0.02%,0.04:0.02%,0.01:0.02%,0.09:0.02%,0.1:0.02%,0.03:0.02%,0.11:0.02%,0.13:0.02%,0.5:0.02%,0.12:0.02%,0.2:0.01%,0.25:0.01%,0.02:0.01%,0.17:0.01%,0.33:0.01%,0.15:0.01%,0.22:0.01%,0.18:0.01%,0.23:0.01%,0.16:0.01%,0.21:0.01%,0.19:0.0%,0.27:0.0%,0.98:0.0%,0.29:0.0%,0.44:0.0%,0.24:0.0%,0.97:0.0%,0.31:0.0%,0.96:0.0%,0.26:0.0%,0.79:0.0%,0.28:0.0%,0.36:0.0%,0.94:0.0%,0.95:0.0%,0.65:0.0%,0.67:0.0%,0.85:0.0%,0.64:0.0%,0.62:0.0%,0.6:0.0%,0.53:0.0%,0.81:0.0%,0.88:0.0%,0.93:0.0%,0.57:0.0%,0.55:0.0%,0.58:0.0%,0.56:0.0%,0.52:0.0%,0.51:0.0%,0.66:0.0%,0.75:0.0%,0.3:0.0%,0.83:0.0%,0.71:0.0%,0.78:0.0%,0.63:0.0%,0.68:0.0%,0.86:0.0%,0.54:0.0%,0.61:0.0%,0.74:0.0%,0.72:0.0%,0.69:0.0%,0.59:0.0%,0.38:0.0%,0.84:0.0%,0.35:0.0%,0.76:0.0%,0.42:0.0%,0.82:0.0%,0.77:0.0%,0.32:0.0%,0.7:0.0%,0.4:0.0%,0.73:0.0%,0.91:0.0%,0.92:0.0%,0.87:0.0%,0.8:0.0%,0.9:0.0%,0.34:0.0%,0.89:0.0%]\n",
      "===> srv_serror_rate:[0.0:82.12%,1.0:17.62%,0.03:0.03%,0.04:0.02%,0.05:0.02%,0.06:0.02%,0.02:0.02%,0.5:0.02%,0.08:0.01%,0.07:0.01%,0.25:0.01%,0.33:0.01%,0.17:0.01%,0.09:0.01%,0.1:0.01%,0.2:0.01%,0.12:0.01%,0.11:0.01%,0.14:0.01%,0.01:0.0%,0.67:0.0%,0.18:0.0%,0.92:0.0%,0.95:0.0%,0.94:0.0%,0.88:0.0%,0.19:0.0%,0.58:0.0%,0.75:0.0%,0.83:0.0%,0.76:0.0%,0.15:0.0%,0.91:0.0%,0.4:0.0%,0.85:0.0%,0.27:0.0%,0.22:0.0%,0.93:0.0%,0.16:0.0%,0.38:0.0%,0.36:0.0%,0.35:0.0%,0.45:0.0%,0.21:0.0%,0.44:0.0%,0.23:0.0%,0.51:0.0%,0.86:0.0%,0.9:0.0%,0.8:0.0%,0.37:0.0%]\n",
      "===> rerror_rate:[0.0:94.12%,1.0:5.46%,0.86:0.02%,0.87:0.02%,0.92:0.02%,0.25:0.02%,0.9:0.02%,0.95:0.02%,0.5:0.02%,0.91:0.02%,0.88:0.01%,0.96:0.01%,0.33:0.01%,0.2:0.01%,0.93:0.01%,0.94:0.01%,0.01:0.01%,0.89:0.01%,0.85:0.01%,0.99:0.01%,0.82:0.01%,0.77:0.01%,0.17:0.01%,0.97:0.01%,0.02:0.01%,0.98:0.01%,0.03:0.01%,0.78:0.01%,0.8:0.01%,0.76:0.01%,0.79:0.0%,0.84:0.0%,0.75:0.0%,0.14:0.0%,0.05:0.0%,0.73:0.0%,0.81:0.0%,0.83:0.0%,0.71:0.0%,0.06:0.0%,0.67:0.0%,0.56:0.0%,0.08:0.0%,0.04:0.0%,0.1:0.0%,0.12:0.0%,0.09:0.0%,0.07:0.0%,0.11:0.0%,0.69:0.0%,0.4:0.0%,0.64:0.0%,0.7:0.0%,0.72:0.0%,0.74:0.0%,0.6:0.0%,0.29:0.0%,0.62:0.0%,0.65:0.0%,0.21:0.0%,0.22:0.0%,0.37:0.0%,0.58:0.0%,0.68:0.0%,0.19:0.0%,0.43:0.0%,0.35:0.0%,0.36:0.0%,0.23:0.0%,0.26:0.0%,0.27:0.0%,0.28:0.0%,0.66:0.0%,0.31:0.0%,0.32:0.0%,0.34:0.0%,0.24:0.0%]\n",
      "===> srv_rerror_rate:[0.0:93.99%,1.0:5.69%,0.33:0.05%,0.5:0.04%,0.25:0.04%,0.2:0.03%,0.17:0.03%,0.14:0.01%,0.04:0.01%,0.03:0.01%,0.12:0.01%,0.06:0.01%,0.02:0.01%,0.05:0.01%,0.07:0.01%,0.4:0.01%,0.67:0.01%,0.08:0.01%,0.11:0.01%,0.29:0.01%,0.09:0.0%,0.1:0.0%,0.75:0.0%,0.6:0.0%,0.01:0.0%,0.71:0.0%,0.22:0.0%,0.83:0.0%,0.86:0.0%,0.18:0.0%,0.96:0.0%,0.79:0.0%,0.43:0.0%,0.92:0.0%,0.81:0.0%,0.88:0.0%,0.73:0.0%,0.69:0.0%,0.94:0.0%,0.62:0.0%,0.8:0.0%,0.85:0.0%,0.93:0.0%,0.82:0.0%,0.27:0.0%,0.37:0.0%,0.21:0.0%,0.38:0.0%,0.87:0.0%,0.95:0.0%,0.13:0.0%]\n",
      "===> same_srv_rate:[1.0:77.34%,0.06:2.27%,0.05:2.14%,0.04:2.06%,0.07:2.03%,0.03:1.93%,0.02:1.9%,0.01:1.77%,0.08:1.48%,0.09:1.01%,0.1:0.8%,0.0:0.73%,0.12:0.73%,0.11:0.67%,0.13:0.66%,0.14:0.51%,0.15:0.35%,0.5:0.29%,0.16:0.25%,0.17:0.17%,0.33:0.12%,0.18:0.1%,0.2:0.08%,0.19:0.07%,0.67:0.05%,0.25:0.04%,0.21:0.04%,0.99:0.03%,0.22:0.03%,0.24:0.02%,0.23:0.02%,0.4:0.02%,0.98:0.02%,0.75:0.02%,0.27:0.02%,0.26:0.01%,0.8:0.01%,0.29:0.01%,0.38:0.01%,0.86:0.01%,0.3:0.01%,0.31:0.01%,0.44:0.01%,0.36:0.01%,0.83:0.01%,0.28:0.01%,0.43:0.01%,0.42:0.01%,0.6:0.01%,0.97:0.01%,0.32:0.01%,0.35:0.01%,0.45:0.01%,0.47:0.01%,0.88:0.0%,0.48:0.0%,0.39:0.0%,0.46:0.0%,0.52:0.0%,0.37:0.0%,0.41:0.0%,0.89:0.0%,0.34:0.0%,0.92:0.0%,0.54:0.0%,0.53:0.0%,0.95:0.0%,0.94:0.0%,0.57:0.0%,0.56:0.0%,0.96:0.0%,0.64:0.0%,0.71:0.0%,0.62:0.0%,0.78:0.0%,0.9:0.0%,0.49:0.0%,0.55:0.0%,0.91:0.0%,0.65:0.0%,0.73:0.0%,0.58:0.0%,0.93:0.0%,0.59:0.0%,0.82:0.0%,0.51:0.0%,0.81:0.0%,0.76:0.0%,0.77:0.0%,0.79:0.0%,0.74:0.0%,0.85:0.0%,0.72:0.0%,0.7:0.0%,0.68:0.0%,0.69:0.0%,0.87:0.0%,0.63:0.0%,0.61:0.0%]\n",
      "===> diff_srv_rate:[0.0:77.33%,0.06:10.69%,0.07:5.83%,0.05:3.89%,0.08:0.66%,1.0:0.48%,0.04:0.19%,0.67:0.13%,0.5:0.12%,0.09:0.08%,0.6:0.06%,0.12:0.05%,0.1:0.04%,0.11:0.04%,0.14:0.03%,0.4:0.02%,0.13:0.02%,0.29:0.02%,0.01:0.02%,0.15:0.02%,0.03:0.02%,0.33:0.02%,0.25:0.02%,0.17:0.02%,0.75:0.01%,0.2:0.01%,0.18:0.01%,0.16:0.01%,0.19:0.01%,0.02:0.01%,0.22:0.01%,0.21:0.01%,0.27:0.01%,0.96:0.01%,0.31:0.01%,0.38:0.01%,0.24:0.01%,0.23:0.01%,0.43:0.0%,0.52:0.0%,0.44:0.0%,0.95:0.0%,0.36:0.0%,0.8:0.0%,0.53:0.0%,0.57:0.0%,0.42:0.0%,0.3:0.0%,0.26:0.0%,0.28:0.0%,0.56:0.0%,0.99:0.0%,0.54:0.0%,0.62:0.0%,0.37:0.0%,0.41:0.0%,0.35:0.0%,0.55:0.0%,0.47:0.0%,0.32:0.0%,0.46:0.0%,0.39:0.0%,0.58:0.0%,0.71:0.0%,0.89:0.0%,0.51:0.0%,0.45:0.0%,0.97:0.0%,0.73:0.0%,0.69:0.0%,0.78:0.0%,0.7:0.0%,0.74:0.0%,0.82:0.0%,0.86:0.0%,0.64:0.0%,0.83:0.0%,0.88:0.0%]\n",
      "===> srv_diff_host_rate:[0.0:92.99%,1.0:1.64%,0.12:0.31%,0.5:0.29%,0.67:0.29%,0.33:0.25%,0.11:0.24%,0.25:0.23%,0.1:0.22%,0.14:0.21%,0.17:0.21%,0.08:0.2%,0.15:0.2%,0.18:0.19%,0.2:0.19%,0.09:0.19%,0.4:0.19%,0.07:0.17%,0.29:0.17%,0.13:0.16%,0.22:0.16%,0.06:0.14%,0.02:0.1%,0.05:0.1%,0.01:0.08%,0.21:0.08%,0.19:0.08%,0.16:0.07%,0.75:0.07%,0.27:0.06%,0.04:0.06%,0.6:0.06%,0.3:0.06%,0.38:0.05%,0.43:0.05%,0.23:0.05%,0.03:0.03%,0.24:0.02%,0.36:0.02%,0.31:0.02%,0.8:0.02%,0.57:0.01%,0.44:0.01%,0.28:0.01%,0.26:0.01%,0.42:0.0%,0.45:0.0%,0.62:0.0%,0.83:0.0%,0.71:0.0%,0.56:0.0%,0.35:0.0%,0.32:0.0%,0.37:0.0%,0.47:0.0%,0.41:0.0%,0.86:0.0%,0.55:0.0%,0.64:0.0%,0.54:0.0%,0.46:0.0%,0.88:0.0%,0.7:0.0%,0.77:0.0%]\n",
      "===> dst_host_count:256 (0%)\n",
      "===> dst_host_srv_count:256 (0%)\n",
      "===> dst_host_same_srv_rate:101 (0%)\n",
      "===> dst_host_diff_srv_rate:101 (0%)\n",
      "===> dst_host_same_src_port_rate:101 (0%)\n",
      "===> dst_host_srv_diff_host_rate:[0.0:89.45%,0.02:2.38%,0.01:2.13%,0.04:1.35%,0.03:1.34%,0.05:0.94%,0.06:0.39%,0.07:0.31%,0.5:0.15%,0.08:0.14%,0.09:0.13%,0.15:0.09%,0.11:0.09%,0.16:0.08%,0.13:0.08%,0.1:0.08%,0.14:0.07%,1.0:0.07%,0.17:0.07%,0.2:0.07%,0.12:0.07%,0.18:0.07%,0.25:0.05%,0.22:0.05%,0.19:0.05%,0.21:0.05%,0.24:0.03%,0.23:0.02%,0.26:0.02%,0.27:0.02%,0.33:0.02%,0.29:0.02%,0.51:0.02%,0.4:0.01%,0.28:0.01%,0.3:0.01%,0.67:0.01%,0.52:0.01%,0.31:0.01%,0.32:0.01%,0.38:0.01%,0.53:0.0%,0.43:0.0%,0.44:0.0%,0.34:0.0%,0.6:0.0%,0.36:0.0%,0.57:0.0%,0.35:0.0%,0.54:0.0%,0.37:0.0%,0.56:0.0%,0.55:0.0%,0.42:0.0%,0.46:0.0%,0.39:0.0%,0.45:0.0%,0.41:0.0%,0.48:0.0%,0.62:0.0%,0.8:0.0%,0.58:0.0%,0.75:0.0%,0.7:0.0%,0.47:0.0%]\n",
      "===> dst_host_serror_rate:[0.0:80.93%,1.0:17.56%,0.01:0.74%,0.02:0.2%,0.03:0.09%,0.09:0.05%,0.04:0.04%,0.05:0.04%,0.07:0.03%,0.08:0.03%,0.06:0.02%,0.14:0.02%,0.15:0.02%,0.11:0.02%,0.13:0.02%,0.16:0.02%,0.1:0.02%,0.12:0.01%,0.18:0.01%,0.25:0.01%,0.2:0.01%,0.17:0.01%,0.33:0.01%,0.99:0.01%,0.19:0.01%,0.31:0.01%,0.27:0.01%,0.5:0.0%,0.22:0.0%,0.98:0.0%,0.35:0.0%,0.28:0.0%,0.24:0.0%,0.53:0.0%,0.96:0.0%,0.3:0.0%,0.94:0.0%,0.29:0.0%,0.26:0.0%,0.97:0.0%,0.42:0.0%,0.32:0.0%,0.6:0.0%,0.95:0.0%,0.56:0.0%,0.55:0.0%,0.23:0.0%,0.85:0.0%,0.93:0.0%,0.34:0.0%,0.89:0.0%,0.58:0.0%,0.21:0.0%,0.92:0.0%,0.57:0.0%,0.91:0.0%,0.9:0.0%,0.43:0.0%,0.82:0.0%,0.49:0.0%,0.36:0.0%,0.76:0.0%,0.47:0.0%,0.46:0.0%,0.62:0.0%,0.38:0.0%,0.45:0.0%,0.87:0.0%,0.61:0.0%,0.65:0.0%,0.41:0.0%,0.39:0.0%,0.44:0.0%,0.48:0.0%,0.52:0.0%,0.81:0.0%,0.77:0.0%,0.79:0.0%,0.73:0.0%,0.88:0.0%,0.69:0.0%,0.67:0.0%,0.54:0.0%,0.72:0.0%,0.68:0.0%,0.4:0.0%,0.64:0.0%,0.51:0.0%,0.84:0.0%,0.59:0.0%,0.7:0.0%,0.75:0.0%,0.8:0.0%,0.71:0.0%,0.83:0.0%,0.66:0.0%,0.74:0.0%,0.78:0.0%,0.86:0.0%,0.37:0.0%]\n",
      "===> dst_host_srv_serror_rate:[0.0:81.16%,1.0:17.61%,0.01:0.99%,0.02:0.14%,0.03:0.03%,0.04:0.02%,0.05:0.01%,0.06:0.01%,0.08:0.0%,0.5:0.0%,0.07:0.0%,0.1:0.0%,0.09:0.0%,0.11:0.0%,0.17:0.0%,0.96:0.0%,0.33:0.0%,0.14:0.0%,0.12:0.0%,0.67:0.0%,0.97:0.0%,0.25:0.0%,0.98:0.0%,0.48:0.0%,0.75:0.0%,0.83:0.0%,0.4:0.0%,0.69:0.0%,0.8:0.0%,0.2:0.0%,0.91:0.0%,0.93:0.0%,0.78:0.0%,0.95:0.0%,0.16:0.0%,0.57:0.0%,0.94:0.0%,0.31:0.0%,0.92:0.0%,0.62:0.0%,0.88:0.0%,0.63:0.0%,0.29:0.0%,0.56:0.0%,0.3:0.0%,0.38:0.0%,0.32:0.0%,0.85:0.0%,0.68:0.0%,0.23:0.0%,0.15:0.0%,0.47:0.0%,0.52:0.0%,0.6:0.0%,0.24:0.0%,0.79:0.0%,0.74:0.0%,0.82:0.0%,0.64:0.0%,0.18:0.0%,0.13:0.0%,0.45:0.0%,0.66:0.0%,0.9:0.0%,0.42:0.0%,0.46:0.0%,0.86:0.0%,0.87:0.0%,0.84:0.0%,0.55:0.0%,0.81:0.0%,0.53:0.0%]\n",
      "===> dst_host_rerror_rate:101 (0%)\n",
      "===> dst_host_srv_rerror_rate:101 (0%)\n",
      "===> label:[smurf:56.84%,neptune:21.7%,normal:19.69%,back:0.45%,satan:0.32%,ipsweep:0.25%,portsweep:0.21%,warezclient:0.21%,teardrop:0.2%,pod:0.05%,nmap:0.05%,guess_passwd:0.01%,buffer_overflow:0.01%,land:0.0%,warezmaster:0.0%,imap:0.0%,rootkit:0.0%,loadmodule:0.0%,ftp_write:0.0%,multihop:0.0%,phf:0.0%,perl:0.0%,spy:0.0%]\n"
     ]
    }
   ],
   "source": [
    "analyze(df) #We are analyzing the data by looking at the unique values present in the dataset by calling analyze() function."
   ]
  },
  {
   "cell_type": "markdown",
   "id": "8c0ea0b7",
   "metadata": {},
   "source": [
    "For example, the duration column has 2495 unique values, and there is a 0% overlap. We have displayed the percentage of the unique value in the column if the number of unique values is less than 100 to save display space. This is done by the expand_categories() function. For example, a text or categorical feature such as protocol_type only has a few unique values, and the program shows the percentages of each category."
   ]
  },
  {
   "cell_type": "code",
   "execution_count": 7,
   "id": "9f02daac",
   "metadata": {
    "scrolled": true
   },
   "outputs": [
    {
     "data": {
      "text/plain": [
       "0"
      ]
     },
     "execution_count": 7,
     "metadata": {},
     "output_type": "execute_result"
    }
   ],
   "source": [
    "df.isna().sum().sum() #Checking whether there are any null values or not. We dont have any null values"
   ]
  },
  {
   "cell_type": "markdown",
   "id": "b2b7c8dc",
   "metadata": {},
   "source": [
    "## Data Prepprocessing"
   ]
  },
  {
   "cell_type": "code",
   "execution_count": 8,
   "id": "b6d9d519",
   "metadata": {},
   "outputs": [],
   "source": [
    "def zscore_normalization(df, col): \n",
    "    mean =df[col].mean() \n",
    "    sd=df[col].std()\n",
    "    df[col] = (df[col] - mean) / sd\n",
    "    \n",
    "def one_hot_encoding(df, col):\n",
    "    dummies_column= pd.get_dummies(df[col]) \n",
    "    for x in dummies_column.columns: \n",
    "        dummy_name = f\"{col}-{x}\"\n",
    "        df [dummy_name] = dummies_column[x] \n",
    "    df.drop(col, axis=1, inplace=True)\n",
    "\n",
    "#Z - Score normalization is done using zscore_normalization() function and one hot encoding is done by one_hot_encoding()."
   ]
  },
  {
   "cell_type": "code",
   "execution_count": 9,
   "id": "e4948c10",
   "metadata": {},
   "outputs": [],
   "source": [
    "for col in df.columns:\n",
    "    if col == \"label\":\n",
    "        pass\n",
    "    elif col in [\"protocol_type\", \"service\", \"flag\"]: \n",
    "        one_hot_encoding(df, col) #In this dataset, we have text data in protocol_type, service and flag. So we are using one hot encoding to convert text to numerical input.\n",
    "    else:\n",
    "        zscore_normalization(df, col) #We have different ranges of input we should normalize it. We are normalizing the data using Z - Score because we know the range of the values. This is why we are not going to any other normalizing methods."
   ]
  },
  {
   "cell_type": "code",
   "execution_count": 10,
   "id": "23209782",
   "metadata": {},
   "outputs": [],
   "source": [
    "df.dropna(inplace=True, axis=1) #Dropping the records which have null values."
   ]
  },
  {
   "cell_type": "code",
   "execution_count": 11,
   "id": "69139ca5",
   "metadata": {},
   "outputs": [],
   "source": [
    "x_columns_name = df.columns.drop('label')\n",
    "x = df[x_columns_name].values #Storing independent features in x by dropping the target feature"
   ]
  },
  {
   "cell_type": "code",
   "execution_count": 12,
   "id": "4cfd69ce",
   "metadata": {
    "scrolled": false
   },
   "outputs": [
    {
     "data": {
      "text/plain": [
       "array([[-0.06779172, -0.00287853,  0.13866418, ...,  0.        ,\n",
       "         1.        ,  0.        ],\n",
       "       [-0.06779172, -0.00281984, -0.0115778 , ...,  0.        ,\n",
       "         1.        ,  0.        ],\n",
       "       [-0.06779172, -0.00282388,  0.01417884, ...,  0.        ,\n",
       "         1.        ,  0.        ],\n",
       "       ...,\n",
       "       [-0.06779172, -0.00285627,  0.01003235, ...,  0.        ,\n",
       "         1.        ,  0.        ],\n",
       "       [-0.06779172, -0.00276722,  0.01003235, ...,  0.        ,\n",
       "         1.        ,  0.        ],\n",
       "       [-0.06779172, -0.00284007,  0.01106141, ...,  0.        ,\n",
       "         1.        ,  0.        ]])"
      ]
     },
     "execution_count": 12,
     "metadata": {},
     "output_type": "execute_result"
    }
   ],
   "source": [
    "x"
   ]
  },
  {
   "cell_type": "code",
   "execution_count": 13,
   "id": "f73020c7",
   "metadata": {},
   "outputs": [
    {
     "data": {
      "text/plain": [
       "(494020, 116)"
      ]
     },
     "execution_count": 13,
     "metadata": {},
     "output_type": "execute_result"
    }
   ],
   "source": [
    "x.shape #x has 494020 samples and 116 features"
   ]
  },
  {
   "cell_type": "code",
   "execution_count": 14,
   "id": "757c19dd",
   "metadata": {},
   "outputs": [],
   "source": [
    "dummies_variable = pd.get_dummies(df['label']) #Creating dummy variables for target feature - label (Similar to one hot encoding)\n",
    "outcomes = dummies_variable.columns\n",
    "y = dummies_variable.values #Storing the created dummy variables in a variable named y."
   ]
  },
  {
   "cell_type": "code",
   "execution_count": 15,
   "id": "5b0d5b56",
   "metadata": {
    "scrolled": true
   },
   "outputs": [
    {
     "data": {
      "text/plain": [
       "(494020, 23)"
      ]
     },
     "execution_count": 15,
     "metadata": {},
     "output_type": "execute_result"
    }
   ],
   "source": [
    "y.shape #y has 494020 samples and 23 features which has to be predicted. It has 23 features because that column had 23 different classes."
   ]
  },
  {
   "cell_type": "code",
   "execution_count": 16,
   "id": "8b87f03c",
   "metadata": {},
   "outputs": [
    {
     "data": {
      "text/plain": [
       "(494020, 116)"
      ]
     },
     "execution_count": 16,
     "metadata": {},
     "output_type": "execute_result"
    }
   ],
   "source": [
    "x.shape"
   ]
  },
  {
   "cell_type": "code",
   "execution_count": 17,
   "id": "24654c69",
   "metadata": {
    "scrolled": false
   },
   "outputs": [
    {
     "data": {
      "text/html": [
       "<div>\n",
       "<style scoped>\n",
       "    .dataframe tbody tr th:only-of-type {\n",
       "        vertical-align: middle;\n",
       "    }\n",
       "\n",
       "    .dataframe tbody tr th {\n",
       "        vertical-align: top;\n",
       "    }\n",
       "\n",
       "    .dataframe thead th {\n",
       "        text-align: right;\n",
       "    }\n",
       "</style>\n",
       "<table border=\"1\" class=\"dataframe\">\n",
       "  <thead>\n",
       "    <tr style=\"text-align: right;\">\n",
       "      <th></th>\n",
       "      <th>duration</th>\n",
       "      <th>src_bytes</th>\n",
       "      <th>dst_bytes</th>\n",
       "      <th>land</th>\n",
       "      <th>wrong_fragment</th>\n",
       "      <th>urgent</th>\n",
       "      <th>hot</th>\n",
       "      <th>num_failed_logins</th>\n",
       "      <th>logged_in</th>\n",
       "      <th>num_compromised</th>\n",
       "      <th>...</th>\n",
       "      <th>flag-REJ</th>\n",
       "      <th>flag-RSTO</th>\n",
       "      <th>flag-RSTOS0</th>\n",
       "      <th>flag-RSTR</th>\n",
       "      <th>flag-S0</th>\n",
       "      <th>flag-S1</th>\n",
       "      <th>flag-S2</th>\n",
       "      <th>flag-S3</th>\n",
       "      <th>flag-SF</th>\n",
       "      <th>flag-SH</th>\n",
       "    </tr>\n",
       "  </thead>\n",
       "  <tbody>\n",
       "    <tr>\n",
       "      <th>0</th>\n",
       "      <td>-0.067792</td>\n",
       "      <td>-0.002879</td>\n",
       "      <td>0.138664</td>\n",
       "      <td>-0.006673</td>\n",
       "      <td>-0.04772</td>\n",
       "      <td>-0.002571</td>\n",
       "      <td>-0.044136</td>\n",
       "      <td>-0.009782</td>\n",
       "      <td>2.396994</td>\n",
       "      <td>-0.005679</td>\n",
       "      <td>...</td>\n",
       "      <td>0</td>\n",
       "      <td>0</td>\n",
       "      <td>0</td>\n",
       "      <td>0</td>\n",
       "      <td>0</td>\n",
       "      <td>0</td>\n",
       "      <td>0</td>\n",
       "      <td>0</td>\n",
       "      <td>1</td>\n",
       "      <td>0</td>\n",
       "    </tr>\n",
       "    <tr>\n",
       "      <th>1</th>\n",
       "      <td>-0.067792</td>\n",
       "      <td>-0.002820</td>\n",
       "      <td>-0.011578</td>\n",
       "      <td>-0.006673</td>\n",
       "      <td>-0.04772</td>\n",
       "      <td>-0.002571</td>\n",
       "      <td>-0.044136</td>\n",
       "      <td>-0.009782</td>\n",
       "      <td>2.396994</td>\n",
       "      <td>-0.005679</td>\n",
       "      <td>...</td>\n",
       "      <td>0</td>\n",
       "      <td>0</td>\n",
       "      <td>0</td>\n",
       "      <td>0</td>\n",
       "      <td>0</td>\n",
       "      <td>0</td>\n",
       "      <td>0</td>\n",
       "      <td>0</td>\n",
       "      <td>1</td>\n",
       "      <td>0</td>\n",
       "    </tr>\n",
       "    <tr>\n",
       "      <th>2</th>\n",
       "      <td>-0.067792</td>\n",
       "      <td>-0.002824</td>\n",
       "      <td>0.014179</td>\n",
       "      <td>-0.006673</td>\n",
       "      <td>-0.04772</td>\n",
       "      <td>-0.002571</td>\n",
       "      <td>-0.044136</td>\n",
       "      <td>-0.009782</td>\n",
       "      <td>2.396994</td>\n",
       "      <td>-0.005679</td>\n",
       "      <td>...</td>\n",
       "      <td>0</td>\n",
       "      <td>0</td>\n",
       "      <td>0</td>\n",
       "      <td>0</td>\n",
       "      <td>0</td>\n",
       "      <td>0</td>\n",
       "      <td>0</td>\n",
       "      <td>0</td>\n",
       "      <td>1</td>\n",
       "      <td>0</td>\n",
       "    </tr>\n",
       "    <tr>\n",
       "      <th>3</th>\n",
       "      <td>-0.067792</td>\n",
       "      <td>-0.002840</td>\n",
       "      <td>0.014179</td>\n",
       "      <td>-0.006673</td>\n",
       "      <td>-0.04772</td>\n",
       "      <td>-0.002571</td>\n",
       "      <td>-0.044136</td>\n",
       "      <td>-0.009782</td>\n",
       "      <td>2.396994</td>\n",
       "      <td>-0.005679</td>\n",
       "      <td>...</td>\n",
       "      <td>0</td>\n",
       "      <td>0</td>\n",
       "      <td>0</td>\n",
       "      <td>0</td>\n",
       "      <td>0</td>\n",
       "      <td>0</td>\n",
       "      <td>0</td>\n",
       "      <td>0</td>\n",
       "      <td>1</td>\n",
       "      <td>0</td>\n",
       "    </tr>\n",
       "    <tr>\n",
       "      <th>4</th>\n",
       "      <td>-0.067792</td>\n",
       "      <td>-0.002842</td>\n",
       "      <td>0.035214</td>\n",
       "      <td>-0.006673</td>\n",
       "      <td>-0.04772</td>\n",
       "      <td>-0.002571</td>\n",
       "      <td>-0.044136</td>\n",
       "      <td>-0.009782</td>\n",
       "      <td>2.396994</td>\n",
       "      <td>-0.005679</td>\n",
       "      <td>...</td>\n",
       "      <td>0</td>\n",
       "      <td>0</td>\n",
       "      <td>0</td>\n",
       "      <td>0</td>\n",
       "      <td>0</td>\n",
       "      <td>0</td>\n",
       "      <td>0</td>\n",
       "      <td>0</td>\n",
       "      <td>1</td>\n",
       "      <td>0</td>\n",
       "    </tr>\n",
       "  </tbody>\n",
       "</table>\n",
       "<p>5 rows × 117 columns</p>\n",
       "</div>"
      ],
      "text/plain": [
       "   duration  src_bytes  dst_bytes      land  wrong_fragment    urgent  \\\n",
       "0 -0.067792  -0.002879   0.138664 -0.006673        -0.04772 -0.002571   \n",
       "1 -0.067792  -0.002820  -0.011578 -0.006673        -0.04772 -0.002571   \n",
       "2 -0.067792  -0.002824   0.014179 -0.006673        -0.04772 -0.002571   \n",
       "3 -0.067792  -0.002840   0.014179 -0.006673        -0.04772 -0.002571   \n",
       "4 -0.067792  -0.002842   0.035214 -0.006673        -0.04772 -0.002571   \n",
       "\n",
       "        hot  num_failed_logins  logged_in  num_compromised  ...  flag-REJ  \\\n",
       "0 -0.044136          -0.009782   2.396994        -0.005679  ...         0   \n",
       "1 -0.044136          -0.009782   2.396994        -0.005679  ...         0   \n",
       "2 -0.044136          -0.009782   2.396994        -0.005679  ...         0   \n",
       "3 -0.044136          -0.009782   2.396994        -0.005679  ...         0   \n",
       "4 -0.044136          -0.009782   2.396994        -0.005679  ...         0   \n",
       "\n",
       "   flag-RSTO  flag-RSTOS0  flag-RSTR  flag-S0  flag-S1  flag-S2  flag-S3  \\\n",
       "0          0            0          0        0        0        0        0   \n",
       "1          0            0          0        0        0        0        0   \n",
       "2          0            0          0        0        0        0        0   \n",
       "3          0            0          0        0        0        0        0   \n",
       "4          0            0          0        0        0        0        0   \n",
       "\n",
       "   flag-SF  flag-SH  \n",
       "0        1        0  \n",
       "1        1        0  \n",
       "2        1        0  \n",
       "3        1        0  \n",
       "4        1        0  \n",
       "\n",
       "[5 rows x 117 columns]"
      ]
     },
     "execution_count": 17,
     "metadata": {},
     "output_type": "execute_result"
    }
   ],
   "source": [
    "df.head()"
   ]
  },
  {
   "cell_type": "code",
   "execution_count": 18,
   "id": "951d581f",
   "metadata": {},
   "outputs": [
    {
     "data": {
      "text/plain": [
       "(494020, 117)"
      ]
     },
     "execution_count": 18,
     "metadata": {},
     "output_type": "execute_result"
    }
   ],
   "source": [
    "df.shape #The dataset after preprocessing has 116 features + 1 target variable (totally 117) and 494020 samples."
   ]
  },
  {
   "cell_type": "code",
   "execution_count": 19,
   "id": "159144b1",
   "metadata": {
    "scrolled": false
   },
   "outputs": [
    {
     "data": {
      "text/plain": [
       "<AxesSubplot:>"
      ]
     },
     "execution_count": 19,
     "metadata": {},
     "output_type": "execute_result"
    },
    {
     "data": {
      "image/png": "[encoded data removed]",
      "text/plain": [
       "<Figure size 432x288 with 2 Axes>"
      ]
     },
     "metadata": {
      "needs_background": "light"
     },
     "output_type": "display_data"
    }
   ],
   "source": [
    "sns.heatmap(df.corr()) #Printing the heatmap based on correlation value\n",
    "#From the heatmap which is derived based on correlation between two features, we can see that there are no two features which has high correlation. So, we dont want to drop any columns as of now."
   ]
  },
  {
   "cell_type": "markdown",
   "id": "43376957",
   "metadata": {},
   "source": [
    "## Splitting the dataset"
   ]
  },
  {
   "cell_type": "code",
   "execution_count": 20,
   "id": "1650a327",
   "metadata": {},
   "outputs": [],
   "source": [
    "x_train, x_test, y_train, y_test = train_test_split(x, y, test_size=0.25, random_state=42) \n",
    "#We are splitting the dataset into train data (75% and test data (25%)."
   ]
  },
  {
   "cell_type": "markdown",
   "id": "943e2ef1",
   "metadata": {},
   "source": [
    "## ANN Model"
   ]
  },
  {
   "cell_type": "code",
   "execution_count": 74,
   "id": "1d208ec9",
   "metadata": {
    "scrolled": false
   },
   "outputs": [
    {
     "name": "stdout",
     "output_type": "stream",
     "text": [
      "Epoch 1/10\n",
      "11579/11579 [==============================] - 44s 4ms/step - loss: 0.0183 - accuracy: 0.9968 - val_loss: 0.0095 - val_accuracy: 0.9982\n",
      "Epoch 2/10\n",
      "11579/11579 [==============================] - 45s 4ms/step - loss: 0.0052 - accuracy: 0.9988 - val_loss: 0.0048 - val_accuracy: 0.9988\n",
      "Epoch 3/10\n",
      "11579/11579 [==============================] - 46s 4ms/step - loss: 0.0041 - accuracy: 0.9991 - val_loss: 0.0051 - val_accuracy: 0.9990\n",
      "Epoch 4/10\n",
      "11579/11579 [==============================] - 45s 4ms/step - loss: 0.0048 - accuracy: 0.9991 - val_loss: 0.0050 - val_accuracy: 0.9991\n",
      "Epoch 5/10\n",
      "11579/11579 [==============================] - 44s 4ms/step - loss: 0.0035 - accuracy: 0.9993 - val_loss: 0.0044 - val_accuracy: 0.9992\n",
      "Epoch 6/10\n",
      "11579/11579 [==============================] - 49s 4ms/step - loss: 0.0035 - accuracy: 0.9992 - val_loss: 0.0049 - val_accuracy: 0.9991\n",
      "Epoch 7/10\n",
      "11579/11579 [==============================] - 51s 4ms/step - loss: 0.0046 - accuracy: 0.9993 - val_loss: 0.0043 - val_accuracy: 0.9992\n",
      "Epoch 8/10\n",
      "11579/11579 [==============================] - 47s 4ms/step - loss: 0.0051 - accuracy: 0.9993 - val_loss: 0.0043 - val_accuracy: 0.9992\n",
      "Epoch 9/10\n",
      "11579/11579 [==============================] - 53s 5ms/step - loss: 0.0038 - accuracy: 0.9993 - val_loss: 0.0045 - val_accuracy: 0.9990\n",
      "Epoch 10/10\n",
      "11579/11579 [==============================] - 43s 4ms/step - loss: 0.0033 - accuracy: 0.9993 - val_loss: 0.0084 - val_accuracy: 0.9992\n"
     ]
    },
    {
     "data": {
      "text/plain": [
       "<keras.callbacks.History at 0x222272ebd60>"
      ]
     },
     "execution_count": 74,
     "metadata": {},
     "output_type": "execute_result"
    }
   ],
   "source": [
    "#Since we have a classification problem, we can't choose any other neural netork model such as CNN (which is mainly used for image processing) etc. This is the main reason to choose ANN for this problem.\n",
    "model = Sequential()\n",
    "model.add(Dense(64, input_dim=x.shape[1], activation='relu')) \n",
    "model.add(Dense(64, activation='relu'))\n",
    "model.add(Dense(32,activation='relu'))\n",
    "model.add(Dense (32, kernel_initializer='normal'))\n",
    "model.add(Dense (y.shape[1], activation='softmax'))\n",
    "model.compile(loss='categorical_crossentropy', optimizer='adam', metrics=['accuracy'])\n",
    "model.fit(x_train,y_train, validation_data=(x_test,y_test), epochs=10)"
   ]
  },
  {
   "cell_type": "markdown",
   "id": "36ca04fb",
   "metadata": {},
   "source": [
    "We developed an artificial neural network which is sequential. We added one input layer with 116 neurons since we have 116 input features, four hidden layers with ReLU as activation layer with 64 or 32 neurons and one output layer with softmax as activation layer with 23 neurons because we have 23 classes (which is derived after applying one hot encoding on the target variable). We have used adam optimizer to reduce the loss and categorical_crossentropy as a cost function to calculate the loss.\n",
    "<br>We are also validating in each epoch with test data. The accuracy and loss in each epoch are calculated using training dataset and val_accuracy and val_loss is calculated based on test dataset which is basically validation process."
   ]
  },
  {
   "cell_type": "code",
   "execution_count": 75,
   "id": "c16c5b9c",
   "metadata": {},
   "outputs": [
    {
     "name": "stdout",
     "output_type": "stream",
     "text": [
      "3860/3860 [==============================] - 9s 2ms/step - loss: 0.0084 - accuracy: 0.9992\n",
      "Accuracy of ANN Model 0.9992064833641052\n",
      "Loss of ANN Model 0.008373276330530643\n"
     ]
    }
   ],
   "source": [
    "loss_acc_ann = model.evaluate(x_test, y_test)\n",
    "print(\"Accuracy of ANN Model \"+ str(loss_acc_ann[1]))\n",
    "print(\"Loss of ANN Model \"+ str(loss_acc_ann[0]))\n",
    "#We have got an accuracy of 99.920% which is really good for an ANN model and a loss value of 0.837% which is really low and its negligible."
   ]
  },
  {
   "cell_type": "code",
   "execution_count": 76,
   "id": "d8e8b568",
   "metadata": {
    "scrolled": true
   },
   "outputs": [
    {
     "name": "stdout",
     "output_type": "stream",
     "text": [
      "Model: \"sequential\"\n",
      "_________________________________________________________________\n",
      " Layer (type)                Output Shape              Param #   \n",
      "=================================================================\n",
      " dense (Dense)               (None, 64)                7488      \n",
      "                                                                 \n",
      " dense_1 (Dense)             (None, 64)                4160      \n",
      "                                                                 \n",
      " dense_2 (Dense)             (None, 32)                2080      \n",
      "                                                                 \n",
      " dense_3 (Dense)             (None, 32)                1056      \n",
      "                                                                 \n",
      " dense_4 (Dense)             (None, 23)                759       \n",
      "                                                                 \n",
      "=================================================================\n",
      "Total params: 15,543\n",
      "Trainable params: 15,543\n",
      "Non-trainable params: 0\n",
      "_________________________________________________________________\n"
     ]
    }
   ],
   "source": [
    "model.summary()"
   ]
  },
  {
   "cell_type": "markdown",
   "id": "9e068979",
   "metadata": {},
   "source": [
    "## Decision Tree Model (Before Optimization)"
   ]
  },
  {
   "cell_type": "markdown",
   "id": "1b8d8882",
   "metadata": {},
   "source": [
    "#### Reason for choosing Decision Tree and Random Forest model\n",
    "We didn’t use Naïve Bayes and Logistic Regression because we have used one hot encoding on target variable and we have 23 columns at the end which makes it difficult to fit into the algorithm and we avoided KNN algorithm because of its very high runtime. We will have very high runtime because it’s a Lazy predictor and we have many columns and 370515 samples in training dataset which increases the runtime exponentially. <br>\n",
    "The only left options are Decision Tree and Random forest tree algorithm. These algorithms are really efficient for classfication probelms which made us to choose them. So, we have chosen Decision Tree and Random forest tree algorithm for this classification problem."
   ]
  },
  {
   "cell_type": "markdown",
   "id": "adf86ea9",
   "metadata": {},
   "source": [
    "#### Training steps\n",
    "First, we train the model using the sci-kit library. <br>\n",
    "Second, we are printing the classification matrix which tells about recall, accuracy, precision and f1-score for each target variable and the average of the above mentioned scores also.<br>\n",
    "Third, we are printing the confusion matrix of Precited Vs Truth values of target variables. <br>\n",
    "Fourth, we are printing the accuracy of the model. <br>\n",
    "(This applies for all models and Inference of each model has been mentioned at the end)"
   ]
  },
  {
   "cell_type": "code",
   "execution_count": 21,
   "id": "63239907",
   "metadata": {
    "scrolled": false
   },
   "outputs": [
    {
     "name": "stdout",
     "output_type": "stream",
     "text": [
      "              precision    recall  f1-score   support\n",
      "\n",
      "           0       1.00      1.00      1.00       540\n",
      "           1       0.86      0.50      0.63        12\n",
      "           2       0.25      1.00      0.40         1\n",
      "           3       1.00      0.80      0.89        10\n",
      "           4       1.00      0.67      0.80         3\n",
      "           5       1.00      1.00      1.00       326\n",
      "           6       1.00      0.71      0.83         7\n",
      "           7       0.00      0.00      0.00         2\n",
      "           8       0.00      0.00      0.00         2\n",
      "           9       1.00      1.00      1.00     26664\n",
      "          10       0.95      1.00      0.97        52\n",
      "          11       1.00      1.00      1.00     24282\n",
      "          12       1.00      1.00      1.00         2\n",
      "          13       0.00      0.00      0.00         0\n",
      "          14       0.98      0.98      0.98        49\n",
      "          15       1.00      0.99      1.00       275\n",
      "          16       0.00      0.00      0.00         2\n",
      "          17       0.99      0.98      0.98       389\n",
      "          18       1.00      1.00      1.00     70382\n",
      "          19       0.00      0.00      0.00         0\n",
      "          20       1.00      1.00      1.00       225\n",
      "          21       0.99      0.97      0.98       274\n",
      "          22       1.00      0.83      0.91         6\n",
      "\n",
      "   micro avg       1.00      1.00      1.00    123505\n",
      "   macro avg       0.74      0.71      0.71    123505\n",
      "weighted avg       1.00      1.00      1.00    123505\n",
      " samples avg       1.00      1.00      1.00    123505\n",
      "\n"
     ]
    },
    {
     "data": {
      "image/png": "[encoded data removed]",
      "text/plain": [
       "<Figure size 432x288 with 2 Axes>"
      ]
     },
     "metadata": {
      "needs_background": "light"
     },
     "output_type": "display_data"
    },
    {
     "name": "stdout",
     "output_type": "stream",
     "text": [
      "Accuracy of Decision Tree Model is 0.9995465770616574\n"
     ]
    }
   ],
   "source": [
    "int_model1 = DecisionTreeClassifier()\n",
    "int_model1 .fit(x_train,y_train) #Training the model\n",
    "acc = int_model1.score(x_test, y_test) #Storing the sccuuracy score in acc variable\n",
    "y_predict = int_model1.predict(x_test) #Predicting the ouutput for x_test  using the trained model\n",
    "print(classification_report(y_test, y_predict)) #Printing the classification matrix which tells about recall, accuracy, precision and f1-score for each target variable\n",
    "confusionMatrix = metrics.confusion_matrix(y_test.argmax(axis=1), y_predict.argmax(axis=1))\n",
    "cm_display = metrics.ConfusionMatrixDisplay(confusion_matrix = confusionMatrix)\n",
    "cm_display.plot()\n",
    "plt.show() #Printing the confusion matrix\n",
    "print(\"Accuracy of Decision Tree Model is \"+str(acc)) #Printing the accuracy of the model"
   ]
  },
  {
   "cell_type": "markdown",
   "id": "c6dcbd99",
   "metadata": {},
   "source": [
    "#### We got an accuracy of 99.9514% and we can also see recall, precision and f1 score for decision tree model."
   ]
  },
  {
   "cell_type": "markdown",
   "id": "7e049068",
   "metadata": {},
   "source": [
    "## Random Forest Model (Before Optimization)"
   ]
  },
  {
   "cell_type": "code",
   "execution_count": 32,
   "id": "a911413b",
   "metadata": {
    "scrolled": false
   },
   "outputs": [
    {
     "name": "stdout",
     "output_type": "stream",
     "text": [
      "              precision    recall  f1-score   support\n",
      "\n",
      "           0       1.00      1.00      1.00       540\n",
      "           1       1.00      0.50      0.67        12\n",
      "           2       1.00      1.00      1.00         1\n",
      "           3       1.00      0.80      0.89        10\n",
      "           4       1.00      0.67      0.80         3\n",
      "           5       0.99      0.99      0.99       326\n",
      "           6       1.00      0.71      0.83         7\n",
      "           7       0.00      0.00      0.00         2\n",
      "           8       0.00      0.00      0.00         2\n",
      "           9       1.00      1.00      1.00     26664\n",
      "          10       1.00      0.96      0.98        52\n",
      "          11       1.00      1.00      1.00     24282\n",
      "          12       0.00      0.00      0.00         2\n",
      "          13       0.00      0.00      0.00         0\n",
      "          14       1.00      0.98      0.99        49\n",
      "          15       1.00      0.99      0.99       275\n",
      "          16       0.00      0.00      0.00         2\n",
      "          17       1.00      0.98      0.99       389\n",
      "          18       1.00      1.00      1.00     70382\n",
      "          19       0.00      0.00      0.00         0\n",
      "          20       1.00      1.00      1.00       225\n",
      "          21       0.99      0.96      0.98       274\n",
      "          22       1.00      0.83      0.91         6\n",
      "\n",
      "   micro avg       1.00      1.00      1.00    123505\n",
      "   macro avg       0.74      0.67      0.70    123505\n",
      "weighted avg       1.00      1.00      1.00    123505\n",
      " samples avg       1.00      1.00      1.00    123505\n",
      "\n"
     ]
    },
    {
     "data": {
      "image/png": "[encoded data removed]",
      "text/plain": [
       "<Figure size 432x288 with 2 Axes>"
      ]
     },
     "metadata": {
      "needs_background": "light"
     },
     "output_type": "display_data"
    },
    {
     "name": "stdout",
     "output_type": "stream",
     "text": [
      "Accuracy of Random Forest Model is 0.9995789644143962\n"
     ]
    }
   ],
   "source": [
    "int_model2 = RandomForestClassifier()\n",
    "int_model2 .fit(x_train,y_train) #Training the model\n",
    "acc = int_model2.score(x_test, y_test) #Storing the sccuuracy score in acc variable\n",
    "y_predict = int_model2.predict(x_test) #Predicting the ouutput for x_test using the trained model\n",
    "print(classification_report(y_test, y_predict)) #Printing the classification matrix which tells about recall, accuracy, precision and f1-score for each target variable\n",
    "confusionMatrix = metrics.confusion_matrix(y_test.argmax(axis=1), y_predict.argmax(axis=1))\n",
    "cm_display = metrics.ConfusionMatrixDisplay(confusion_matrix = confusionMatrix)\n",
    "cm_display.plot()\n",
    "plt.show() #Printing the confusion matrix\n",
    "print(\"Accuracy of Random Forest Model is \"+str(acc)) #Printing the accuracy of the model"
   ]
  },
  {
   "cell_type": "markdown",
   "id": "3e56f31f",
   "metadata": {},
   "source": [
    "#### We have got an accuracy of 99.9578% and we can also see recall, precision and f1 score for the random forest model."
   ]
  },
  {
   "cell_type": "markdown",
   "id": "01e0cfba",
   "metadata": {},
   "source": [
    "## Feature Extraction (Optimization)"
   ]
  },
  {
   "cell_type": "markdown",
   "id": "e5d296eb",
   "metadata": {},
   "source": [
    "#### We are optimizing the model by extracting the important features since we might have many unwanted features which doesn’t contribute in classification and those might mislead the model.\n",
    "#### For feature extraction, we are exploiting a feature available in decision tree algorithm. The decision tree library provides a feature to calculate importance of each feature while training the model."
   ]
  },
  {
   "cell_type": "code",
   "execution_count": 77,
   "id": "23b857c8",
   "metadata": {},
   "outputs": [],
   "source": [
    "feature_ext = DecisionTreeClassifier()\n",
    "feature_ext.fit(x,y) #Training a decision tree model on the whole dataset without splitting\n",
    "imp = feature_ext.feature_importances_ #Using feature_importance_ feature to get importance of each feature and we are storing inn imp variable."
   ]
  },
  {
   "cell_type": "code",
   "execution_count": 78,
   "id": "ed2f6f0a",
   "metadata": {},
   "outputs": [
    {
     "data": {
      "text/plain": [
       "array([1.00453825e-04, 6.79255985e-03, 1.11480110e-04, 3.85286740e-05,\n",
       "       6.19540286e-03, 3.09711692e-06, 1.65871419e-03, 2.85231827e-04,\n",
       "       3.46931129e-05, 1.29906872e-02, 1.38884636e-05, 5.99352888e-06,\n",
       "       7.43233090e-06, 5.78966952e-05, 6.73887154e-06, 1.12777130e-05,\n",
       "       1.31231273e-04, 1.01816821e-04, 6.04769507e-01, 6.23263644e-05,\n",
       "       0.00000000e+00, 4.94789801e-05, 6.39309747e-06, 3.26143831e-01,\n",
       "       2.95600276e-04, 1.82711820e-05, 5.46200277e-04, 1.80420686e-04,\n",
       "       3.51052843e-05, 1.17391294e-02, 1.34517444e-03, 7.21931410e-03,\n",
       "       1.04356924e-04, 6.31915239e-03, 3.02969822e-04, 0.00000000e+00,\n",
       "       4.06696694e-05, 1.02331073e-05, 9.63483204e-04, 0.00000000e+00,\n",
       "       0.00000000e+00, 0.00000000e+00, 0.00000000e+00, 0.00000000e+00,\n",
       "       0.00000000e+00, 0.00000000e+00, 0.00000000e+00, 0.00000000e+00,\n",
       "       0.00000000e+00, 0.00000000e+00, 0.00000000e+00, 0.00000000e+00,\n",
       "       9.93876209e-04, 5.18271951e-04, 0.00000000e+00, 0.00000000e+00,\n",
       "       0.00000000e+00, 2.54555738e-06, 3.31325148e-03, 0.00000000e+00,\n",
       "       0.00000000e+00, 1.21822387e-04, 0.00000000e+00, 3.35869661e-05,\n",
       "       0.00000000e+00, 0.00000000e+00, 0.00000000e+00, 0.00000000e+00,\n",
       "       0.00000000e+00, 0.00000000e+00, 0.00000000e+00, 0.00000000e+00,\n",
       "       0.00000000e+00, 0.00000000e+00, 0.00000000e+00, 0.00000000e+00,\n",
       "       0.00000000e+00, 0.00000000e+00, 0.00000000e+00, 1.46101015e-05,\n",
       "       0.00000000e+00, 0.00000000e+00, 0.00000000e+00, 0.00000000e+00,\n",
       "       3.98995306e-04, 0.00000000e+00, 0.00000000e+00, 0.00000000e+00,\n",
       "       0.00000000e+00, 0.00000000e+00, 0.00000000e+00, 0.00000000e+00,\n",
       "       0.00000000e+00, 0.00000000e+00, 0.00000000e+00, 2.50141696e-06,\n",
       "       0.00000000e+00, 5.05576586e-06, 0.00000000e+00, 0.00000000e+00,\n",
       "       0.00000000e+00, 0.00000000e+00, 0.00000000e+00, 0.00000000e+00,\n",
       "       0.00000000e+00, 2.84475696e-05, 2.37809093e-04, 0.00000000e+00,\n",
       "       6.83842083e-06, 4.71010196e-03, 6.29533167e-04, 0.00000000e+00,\n",
       "       0.00000000e+00, 0.00000000e+00, 2.84010624e-04, 0.00000000e+00])"
      ]
     },
     "execution_count": 78,
     "metadata": {},
     "output_type": "execute_result"
    }
   ],
   "source": [
    "imp #Printing the importance of each feature"
   ]
  },
  {
   "cell_type": "code",
   "execution_count": 79,
   "id": "8a44eca1",
   "metadata": {
    "scrolled": false
   },
   "outputs": [
    {
     "data": {
      "image/png": "[encoded data removed]",
      "text/plain": [
       "<Figure size 648x648 with 1 Axes>"
      ]
     },
     "metadata": {
      "needs_background": "light"
     },
     "output_type": "display_data"
    }
   ],
   "source": [
    "plt.figure(figsize=(9,9))\n",
    "plt.bar([x for x in range(len(imp))], imp, width=1.5)\n",
    "plt.show() #Showing the importance of each feature in bar chart"
   ]
  },
  {
   "cell_type": "code",
   "execution_count": 80,
   "id": "13e0e96b",
   "metadata": {
    "scrolled": true
   },
   "outputs": [
    {
     "name": "stdout",
     "output_type": "stream",
     "text": [
      "There are 104 unwanted features.\n"
     ]
    }
   ],
   "source": [
    "unwanted_cols = []\n",
    "for i,j in enumerate(imp):\n",
    "    if(j<0.001): #We are checking for the features which has importance value less than 0.001.\n",
    "        unwanted_cols.append(i) #If its less than 0.001 we will append coluumn number in a list which will be later used to drop those columns in the list.\n",
    "unwanted_feat = len(unwanted_cols)\n",
    "print(\"There are \"+str(unwanted_feat)+\" unwanted features.\")"
   ]
  },
  {
   "cell_type": "code",
   "execution_count": 81,
   "id": "fd58a0a6",
   "metadata": {
    "scrolled": false
   },
   "outputs": [
    {
     "name": "stdout",
     "output_type": "stream",
     "text": [
      "[0, 2, 3, 5, 7, 8, 10, 11, 12, 13, 14, 15, 16, 17, 19, 20, 21, 22, 24, 25, 26, 27, 28, 32, 34, 35, 36, 37, 38, 39, 40, 41, 42, 43, 44, 45, 46, 47, 48, 49, 50, 51, 52, 53, 54, 55, 56, 57, 59, 60, 61, 62, 63, 64, 65, 66, 67, 68, 69, 70, 71, 72, 73, 74, 75, 76, 77, 78, 79, 80, 81, 82, 83, 84, 85, 86, 87, 88, 89, 90, 91, 92, 93, 94, 95, 96, 97, 98, 99, 100, 101, 102, 103, 104, 105, 106, 107, 108, 110, 111, 112, 113, 114, 115]\n"
     ]
    }
   ],
   "source": [
    "print(unwanted_cols) #Printing the unwanted column numbers."
   ]
  },
  {
   "cell_type": "code",
   "execution_count": 82,
   "id": "1ca4eb5f",
   "metadata": {
    "scrolled": true
   },
   "outputs": [],
   "source": [
    "x = np.delete(x, [2, 3, 5, 8, 10, 11, 12, 13, 14, 15, 19, 20, 22, 25, 28, 34, 35, 36, 37, 39, 40, 41, 42, 43, 44, 45, 46, 47, 48, 49, 50, 51, 54, 55, 56, 57, 59, 60, 62, 63, 64, 65, 66, 67, 68, 69, 70, 71, 72, 73, 74, 75, 76, 77, 78, 79, 80, 81, 82, 83, 85, 86, 87, 88, 89, 90, 91, 92, 93, 94, 95, 96, 97, 98, 99, 100, 101, 102, 103, 104, 105, 106, 107, 108, 111, 112, 113, 115], axis=1)\n",
    "#We are removing the unwanted features which has importance less than 0.001."
   ]
  },
  {
   "cell_type": "code",
   "execution_count": 83,
   "id": "d0285f2e",
   "metadata": {},
   "outputs": [
    {
     "data": {
      "text/plain": [
       "array([[-0.06779172, -0.00287853, -0.04772019, ...,  0.        ,\n",
       "         0.        ,  1.        ],\n",
       "       [-0.06779172, -0.00281984, -0.04772019, ...,  0.        ,\n",
       "         0.        ,  1.        ],\n",
       "       [-0.06779172, -0.00282388, -0.04772019, ...,  0.        ,\n",
       "         0.        ,  1.        ],\n",
       "       ...,\n",
       "       [-0.06779172, -0.00285627, -0.04772019, ...,  0.        ,\n",
       "         0.        ,  1.        ],\n",
       "       [-0.06779172, -0.00276722, -0.04772019, ...,  0.        ,\n",
       "         0.        ,  1.        ],\n",
       "       [-0.06779172, -0.00284007, -0.04772019, ...,  0.        ,\n",
       "         0.        ,  1.        ]])"
      ]
     },
     "execution_count": 83,
     "metadata": {},
     "output_type": "execute_result"
    }
   ],
   "source": [
    "x"
   ]
  },
  {
   "cell_type": "code",
   "execution_count": 84,
   "id": "d3e6a695",
   "metadata": {
    "scrolled": false
   },
   "outputs": [
    {
     "data": {
      "text/plain": [
       "(494020, 28)"
      ]
     },
     "execution_count": 84,
     "metadata": {},
     "output_type": "execute_result"
    }
   ],
   "source": [
    "x.shape #We have 28 features at the end."
   ]
  },
  {
   "cell_type": "markdown",
   "id": "216a75c7",
   "metadata": {},
   "source": [
    "## Randomized Search CV  (Optimization)"
   ]
  },
  {
   "cell_type": "markdown",
   "id": "82959c1b",
   "metadata": {},
   "source": [
    "#### For hyperparameter tuning, in order to automate this process of trying different combinations of hyperparameters, we will be using Randomized Search CV."
   ]
  },
  {
   "cell_type": "code",
   "execution_count": 86,
   "id": "6adb5d6b",
   "metadata": {},
   "outputs": [],
   "source": [
    "model_params = {\n",
    "    'Decision Tree' : {\n",
    "        'model': DecisionTreeClassifier(),\n",
    "        'params': {\n",
    "            'criterion': ['gini', 'entropy'],\n",
    "            'splitter': ['best', 'random'],\n",
    "        }\n",
    "    },\n",
    "    'Random Forest': {\n",
    "        'model': RandomForestClassifier(),\n",
    "        'params' : {\n",
    "            'n_estimators': [10, 50, 100, 200, 300, 400, 500],\n",
    "            'criterion': ['gini', 'entropy', 'log_loss'],\n",
    "        }\n",
    "    }\n",
    "\n",
    "}\n",
    "\n",
    "#We created a JSON object which contains the models along with the parameters which we will be using to train the model which will be used for Randomized Search CV."
   ]
  },
  {
   "cell_type": "markdown",
   "id": "fe42c97d",
   "metadata": {},
   "source": [
    "## Training models using Randomized Search CV (After Optimization)"
   ]
  },
  {
   "cell_type": "code",
   "execution_count": 92,
   "id": "609ad645",
   "metadata": {},
   "outputs": [],
   "source": [
    "x_train, x_test, y_train, y_test = train_test_split(x, y, test_size=0.25, random_state=42) #We are again splitting the dataset into train data (75% and test data (25%) because we have applied feature extraction previously on the original dataframe."
   ]
  },
  {
   "cell_type": "code",
   "execution_count": 96,
   "id": "172636d2",
   "metadata": {},
   "outputs": [
    {
     "data": {
      "text/html": [
       "<div>\n",
       "<style scoped>\n",
       "    .dataframe tbody tr th:only-of-type {\n",
       "        vertical-align: middle;\n",
       "    }\n",
       "\n",
       "    .dataframe tbody tr th {\n",
       "        vertical-align: top;\n",
       "    }\n",
       "\n",
       "    .dataframe thead th {\n",
       "        text-align: right;\n",
       "    }\n",
       "</style>\n",
       "<table border=\"1\" class=\"dataframe\">\n",
       "  <thead>\n",
       "    <tr style=\"text-align: right;\">\n",
       "      <th></th>\n",
       "      <th>model</th>\n",
       "      <th>best_score</th>\n",
       "      <th>best_params</th>\n",
       "      <th>accuracy</th>\n",
       "    </tr>\n",
       "  </thead>\n",
       "  <tbody>\n",
       "    <tr>\n",
       "      <th>0</th>\n",
       "      <td>Decision Tree</td>\n",
       "      <td>0.999609</td>\n",
       "      <td>{'splitter': 'best', 'criterion': 'entropy'}</td>\n",
       "      <td>0.999619</td>\n",
       "    </tr>\n",
       "    <tr>\n",
       "      <th>1</th>\n",
       "      <td>Random Forest</td>\n",
       "      <td>0.999641</td>\n",
       "      <td>{'n_estimators': 200, 'criterion': 'entropy'}</td>\n",
       "      <td>0.999628</td>\n",
       "    </tr>\n",
       "  </tbody>\n",
       "</table>\n",
       "</div>"
      ],
      "text/plain": [
       "           model  best_score                                    best_params  \\\n",
       "0  Decision Tree    0.999609   {'splitter': 'best', 'criterion': 'entropy'}   \n",
       "1  Random Forest    0.999641  {'n_estimators': 200, 'criterion': 'entropy'}   \n",
       "\n",
       "   accuracy  \n",
       "0  0.999619  \n",
       "1  0.999628  "
      ]
     },
     "execution_count": 96,
     "metadata": {},
     "output_type": "execute_result"
    }
   ],
   "source": [
    "scores1 = [] #List to store model name, best training score, parameters that gave the best accuracy and accuracy of the model.\n",
    "\n",
    "for model_name, mp in model_params.items(): #We are inputting the JSON object to RandomizedSearchCV() which trains each of the model in JSON using for loop with different combination of parameters.\n",
    "    clf =  RandomizedSearchCV(mp['model'], mp['params'], cv=3, return_train_score=False) #We have user K-fold cross validation value as 3 because we have 370515 samples. In this line, the RandomizedSearchCV selects the model and parameters to train and store in clf model.\n",
    "    clf.fit(x_train, y_train) #The selected model along with parameters are trained\n",
    "    scores1.append({ #Appending model name, best training score, parameters that gave the best accuracy and accuracy of the model in a list.\n",
    "        'model': model_name,\n",
    "        'best_score': clf.best_score_,\n",
    "        'best_params': clf.best_params_,\n",
    "        'accuracy' : clf.score(x_test, y_test)\n",
    "    })\n",
    "    \n",
    "acc1 = pd.DataFrame(scores1,columns=['model','best_score','best_params', 'accuracy']) #Converting the list into dataframe for easy interpretation.\n",
    "acc1 #Printing the dataframe containing model name, best training score, parameters that gave the best accuracy and accuracy of the model."
   ]
  },
  {
   "cell_type": "markdown",
   "id": "2eaf81f7",
   "metadata": {},
   "source": [
    "#### After training using Randomized Search CV, we can see that we are getting an accuracy of 99.9641% for Random Forest model and 99.9609% for Decision tree model which is higher than the non-optimized models which was 99.9578% for Random Forest model and 99.9514% for Decision Tree model. Even though the difference/increase in accuracy between optimized and non-optimized model, is less, we have still improved the model by applying optimization methods like feature extraction and hyperparameter tuning using Randomized Search CV."
   ]
  },
  {
   "cell_type": "markdown",
   "id": "ec35b22f",
   "metadata": {},
   "source": [
    "## Evaluation metrics\n",
    "\n",
    "Evaluation metrics:\n",
    "1. Accuracy Score\n",
    "2. Recall score\n",
    "\n",
    "The reason for recall score as one of evaluation metric is because we need the model to classify the network flow correctly rather than giving false positives and false negatives. Recall score calculates the efficiency of the model based on true positives. This is why we chose recall score as one of our evaluation metric. The reason for choosing accuracy score is to calculate the overall efficieny of the model. <br>\n",
    "<b>For recall score, we got 1 (weighted average) for both the models. So accuracy score will be the main deciding factor.<b>"
   ]
  },
  {
   "cell_type": "markdown",
   "id": "cdf16d08",
   "metadata": {},
   "source": [
    "## Conclusion\n",
    "After optimizing the models using Feature extraction and Hyper parameter tuning, we get a highest accuracy of 99.9641% for Random Forest model and 99.9609% for Decision tree model. So, we can conclude that Random Forest model gives the highest accuracy when comparing both the models with the parameters: n_estimators: 200 and criterion: entropy and therefore it’s the best model.\n",
    "Thus, for detecting cyber attacks. Random Forest is the best model which can used by training on the above mentioned parameters using KDD99 dataset."
   ]
  }
 ],
 "metadata": {
  "kernelspec": {
   "display_name": "Python 3 (ipykernel)",
   "language": "python",
   "name": "python3"
  },
  "language_info": {
   "codemirror_mode": {
    "name": "ipython",
    "version": 3
   },
   "file_extension": ".py",
   "mimetype": "text/x-python",
   "name": "python",
   "nbconvert_exporter": "python",
   "pygments_lexer": "ipython3",
   "version": "3.9.12"
  }
 },
 "nbformat": 4,
 "nbformat_minor": 5
}
